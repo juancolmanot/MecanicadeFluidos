{
 "cells": [
  {
   "cell_type": "markdown",
   "id": "710fc2b0-806f-4c83-8630-bcb09e64a86b",
   "metadata": {},
   "source": [
    "### 1. Proceso de llenado de un tanque de aire comprimido\n",
    "\n",
    "Tenemos un tanque de gas comprimido, conectado a una línea de presión con aire a presión $p_L$ y temperatura $T_L$, conectada al tanque mediante una válvula cuyo volumen es $V_T$, el cual contiene aire a una presión $p_T$ y temperatura $T_T$.\n",
    "\n",
    "Asumiendo apertura instantánea de la válvula y sin pérdidas introducidas, se establece un flujo de aire de caudal variable en el tiempo, el cual disminuye a medida que el cilindro se llena.\n",
    "\n",
    "Asumiendo que el proceso es adiabático y que las condiciones en la línea de alta presión son constantes en el tiempo, la presión, temperatura y velocidad en la entrada del conducto siguen las relaciones adiabáticas para una tobera convergente:\n",
    "\n",
    "- $\\frac{p_0}{p_g} = \\left [ \\frac{\\gamma + 1}{2}\\right ]^{\\frac{\\gamma}{\\gamma - 1}}$\n",
    "- $\\frac{T_0}{T_g} = \\left [ \\frac{\\gamma + 1}{2}\\right ]$\n",
    "- $u_g = a_g = \\sqrt{\\frac{2\\gamma}{\\gamma + 1}} RT_0$\n",
    "\n",
    "Pueden plantearse algunas de las leyes de conservación inestacionarias para un volumen de control:\n",
    "\n",
    "- Conservación de la masa\n",
    "- Conservación de la cantidad de movimiento\n",
    "- Conservación de la energía\n",
    "\n",
    "en conjunto con la ecuación de estado para un gas ideal, y así resolver el valor del caudal másico, la presión, densidad y temperaturas instantáneas como funciones del tiempo en el tanque.\n",
    "\n",
    "#### 1.1 Objetivos\n",
    "- Determinar el tiempo que demora en llenarse el tanque hasta que $p_T = 0.95p_L$\n",
    "- Graficar las curvas de caudal másico, presión, densidad y temperatura en el tanque en función del tiempo."
   ]
  },
  {
   "cell_type": "markdown",
   "id": "86a2c17b-fb14-49e2-8875-05dd187e3508",
   "metadata": {},
   "source": [
    "### Los datos del problema son:\n",
    "\n",
    "#### Condiciones de la línea:\n",
    "- $P_L = 200 Bar (Abs)$\n",
    "- $T_L = 20°C$\n",
    "\n",
    "#### Condiciones del tanque:\n",
    "- $V = 0.1 m^3$\n",
    "- $p_T = 1 Bar (man)$\n",
    "- $T_T = 20°C$"
   ]
  },
  {
   "cell_type": "markdown",
   "id": "1c83892c-1763-4c90-8c92-d41b2ddd13a3",
   "metadata": {},
   "source": [
    "La ecuación de continuidad o conservación de la masa, plantedada para el volumen de control mostrado en la figura 1, podrá ser escrita como:\n",
    "\n",
    "$$\\frac{\\partial}{\\partial t}\\int_{VC}\\rho dV_c + \\int_{SC} \\rho \\vec{V} \\cdot \\vec{n} dA = 0$$\n",
    "\n",
    "Si observamos la figura 1.1 vemos que tendremos no solo una variación espacial de los parámetros del flujo debido a la condición de tobera del tubo de alimentación, si no también que tendremos una variación temporal debido al desequilibrio en el que el sistema se encuentra al abrirse la válvula. Por lo que será conveniente subdividir el volumen de control en dos, uno que circunscriba la conexión entre el tanque y la línea, que se comporta como una tobera convergente, y por otro lado el tanque, el cual se supondrá que tiene las mismas propiedades en todos sus puntos."
   ]
  },
  {
   "cell_type": "markdown",
   "id": "dc8b6b5a-6224-4604-8935-c0e6e3ee2441",
   "metadata": {},
   "source": [
    "Plantearemos la ecuación de conservación de la masa en el volumen de control comprendido exculsivamente por el tanque, teniendo en cuenta que las propiedades dentro del mismo son iguales a lo largo del volumen, podemos escribir el miembro izquierdo como:\n",
    "\n",
    "\\begin{equation}\n",
    "    \\frac{\\partial}{\\partial t}\\rho \\int_{VC}dV_C = \\frac{\\partial}{\\partial t}\\left(\\rho V_C\\right)\n",
    "\\end{equation}\n",
    "\n",
    "\n",
    "Sabemos que en cualquier momento el flujo a través de la superficie de control será entrante, o a lo sumo nulo, por lo que el producto escalar $\\vec{V} \\cdot \\vec{n} = - V$ y cómo nos encontramos en el final de una tobera convergente, esta será la velocidad de la garganta de la misma $V = ug$. por lo que la ecuación de conservación puede escribirse:\n",
    "\n",
    "$$\\frac{\\partial \\left(\\rho_T V_C \\right)}{\\partial t} - \\int_{SC} \\rho_T V dA = 0$$\n",
    "\n",
    "Si consideramos la velocidad y la densidad uniformes en toda la sección, y haciendo $\\rho V_C = M$ podemos sacarlas de la integral y escribir:\n",
    "\n",
    "$$\\frac{\\partial M}{\\partial t} = \\rho_T V A_T$$\n",
    "\n",
    "No teniendo otra dependencia de las cantidades, más que la temporal:\n",
    "\n",
    "$$\\frac{dM}{dt} = \\rho_T V A_T$$\n",
    "\n",
    "y $\\rho_T V A_T = \\dot{m}$, por lo que:\n",
    "\n",
    "$$\\frac{dM}{dt} = \\dot{m}$$"
   ]
  },
  {
   "cell_type": "markdown",
   "id": "955f4d33-01e7-49a9-874b-53dc453154c8",
   "metadata": {},
   "source": [
    "Si planteamos la ecuación de conservación de la energía, tenemos:\n",
    "\n",
    "$$\\dot{Q} - \\dot{W}_{corte} - \\dot{W}_{eje} - \\dot{W}_{otro} = \\frac{\\partial}{\\partial t} \\int_{VC} e \\rho dV_C + \\int_{SC} e \\rho \\vec{V} \\cdot \\vec{n} dA_{SC} + \\dot{W}_{normal}$$\n",
    "\n",
    "Pero $\\dot{W}_{normal}$ = $\\int_{SC} pv \\rho \\vec{V} \\cdot \\vec{n} dA_{SC}$ por lo tanto:\n",
    "\n",
    "$$\\dot{Q} - \\dot{W}_{corte} - \\dot{W}_{eje} - \\dot{W}_{otro} = \\frac{\\partial}{\\partial t} \\int_{VC} e \\rho dV_C + \\int_{SC} \\left(e + pv\\right)\\rho \\vec{V} \\cdot \\vec{n} dA_{SC}$$\n",
    "\n",
    "Las hipótesis simplificativas son:\n",
    "- $\\dot{Q} = 0$ (por enunciado)\n",
    "- $\\dot{W}_{corte} = \\dot{W}_{eje} = \\dot{W}_{otro} = 0$\n",
    "- Propiedades uniformes en todo el volumen del tanque y toda la sección de entrada.\n",
    "- Gas ideal, $p = \\rho R T$ y $du = c_v dT$\n",
    "\n",
    "Por otro lado, $e = u + \\frac{V^2}{2} + gz$"
   ]
  },
  {
   "cell_type": "markdown",
   "id": "86e499ff-2c6f-4a8f-a949-736b13f5687c",
   "metadata": {},
   "source": [
    "$$\\frac{\\partial}{\\partial t} \\int_{VC} u \\rho dV_C + \\int_{SC} \\left(u + pv\\right)\\rho \\vec{V} \\cdot \\vec{n} dA_{SC} = 0$$\n",
    "\n",
    "Cómo las propiedades son uniformes en el tanque y la sección:\n",
    "\n",
    "$$ \\frac{\\partial}{\\partial t} \\int_{VC} u \\rho dV_C = \\frac{d\\left(u M\\right)}{dt} $$\n",
    "\n",
    "Por otro lado, por la ecuación de los gases ideales $pv = RT$ y la integral de superficie quedará:\n",
    "\n",
    "$$ \\int_{SC}\\left(u+pv\\right)\\rho - \\left(V\\right) dA_{SC}  = \\left(u + RT\\right) \\left(-\\rho V A\\right) = \\left(u + RT\\right) - \\dot{m}$$\n",
    "\n",
    "Por lo que podemos combinar ambos terminos:\n",
    "\n",
    "$$ \\frac{d\\left(u M\\right)}{dt} - \\left(u + RT\\right) \\dot{m} = 0$$\n",
    "\n",
    "$$ \\frac{d\\left(u M\\right)}{dt} = \\left(u + RT\\right) \\dot{m}$$\n",
    "\n",
    "$M$ es la masa instantánea dentro del tanque y $\\dot{m}$ el flujo másico a través de la entrada.\n",
    "\n",
    "Derivando:\n",
    "\n",
    "$$u \\frac{dM}{dt} + M \\frac{du}{dt} = u \\dot{m} + RT \\dot{m}$$\n",
    "\n",
    "Pero del balance másico $\\frac{dM}{dt} = \\dot{m}$ y además $\\frac{du}{dt} = c_v \\frac{dT}{dt}$, quedando:\n",
    "\n",
    "$$c_v T \\dot{m} + M c_v\\frac{dT}{dt} = u \\dot{m} + RT \\dot{m}$$"
   ]
  },
  {
   "cell_type": "code",
   "execution_count": null,
   "id": "5152edfa-3a1e-4e56-a9ba-f9d6b9a2b5ad",
   "metadata": {},
   "outputs": [],
   "source": [
    "# Empezamos calculando la variación de presión, temperatura y densidad a lo largo de la tobera:\n",
    "\n"
   ]
  }
 ],
 "metadata": {
  "kernelspec": {
   "display_name": "Python 3 (ipykernel)",
   "language": "python",
   "name": "python3"
  },
  "language_info": {
   "codemirror_mode": {
    "name": "ipython",
    "version": 3
   },
   "file_extension": ".py",
   "mimetype": "text/x-python",
   "name": "python",
   "nbconvert_exporter": "python",
   "pygments_lexer": "ipython3",
   "version": "3.8.10"
  }
 },
 "nbformat": 4,
 "nbformat_minor": 5
}
